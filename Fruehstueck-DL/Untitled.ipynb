{
 "cells": [
  {
   "cell_type": "code",
   "execution_count": 1,
   "metadata": {},
   "outputs": [
    {
     "name": "stdout",
     "output_type": "stream",
     "text": [
      "['date;time;open;high;low;close;volume']\n"
     ]
    },
    {
     "ename": "TypeError",
     "evalue": "'Index' object is not callable",
     "output_type": "error",
     "traceback": [
      "\u001b[1;31m---------------------------------------------------------------------------\u001b[0m",
      "\u001b[1;31mTypeError\u001b[0m                                 Traceback (most recent call last)",
      "\u001b[1;32m<ipython-input-1-a1b2123e7063>\u001b[0m in \u001b[0;36m<module>\u001b[1;34m()\u001b[0m\n\u001b[0;32m     16\u001b[0m \u001b[0mprint\u001b[0m\u001b[1;33m(\u001b[0m\u001b[0mlist\u001b[0m\u001b[1;33m(\u001b[0m\u001b[0moh\u001b[0m\u001b[1;33m)\u001b[0m\u001b[1;33m)\u001b[0m\u001b[1;33m\u001b[0m\u001b[0m\n\u001b[0;32m     17\u001b[0m \u001b[1;33m\u001b[0m\u001b[0m\n\u001b[1;32m---> 18\u001b[1;33m \u001b[0moh\u001b[0m\u001b[1;33m.\u001b[0m\u001b[0mcolumns\u001b[0m\u001b[1;33m(\u001b[0m\u001b[1;33m[\u001b[0m\u001b[1;34m'date'\u001b[0m\u001b[1;33m,\u001b[0m \u001b[1;34m'time'\u001b[0m\u001b[1;33m,\u001b[0m \u001b[1;34m'open'\u001b[0m\u001b[1;33m,\u001b[0m \u001b[1;34m'high'\u001b[0m\u001b[1;33m,\u001b[0m \u001b[1;34m'low'\u001b[0m\u001b[1;33m,\u001b[0m \u001b[1;34m'close'\u001b[0m\u001b[1;33m,\u001b[0m \u001b[1;34m'volume'\u001b[0m\u001b[1;33m]\u001b[0m\u001b[1;33m)\u001b[0m\u001b[1;33m\u001b[0m\u001b[0m\n\u001b[0m\u001b[0;32m     19\u001b[0m \u001b[0mprint\u001b[0m\u001b[1;33m(\u001b[0m\u001b[0moh\u001b[0m\u001b[1;33m.\u001b[0m\u001b[0mhead\u001b[0m\u001b[1;33m(\u001b[0m\u001b[1;36m2\u001b[0m\u001b[1;33m)\u001b[0m\u001b[1;33m)\u001b[0m\u001b[1;33m\u001b[0m\u001b[0m\n\u001b[0;32m     20\u001b[0m \u001b[0mprint\u001b[0m\u001b[1;33m(\u001b[0m\u001b[0moh\u001b[0m\u001b[1;33m.\u001b[0m\u001b[0mloc\u001b[0m\u001b[1;33m[\u001b[0m\u001b[1;36m0\u001b[0m\u001b[1;33m:\u001b[0m\u001b[1;36m2\u001b[0m\u001b[1;33m,\u001b[0m \u001b[1;33m[\u001b[0m\u001b[1;34m'date'\u001b[0m\u001b[1;33m,\u001b[0m \u001b[1;34m'time'\u001b[0m\u001b[1;33m,\u001b[0m \u001b[1;34m'close'\u001b[0m\u001b[1;33m]\u001b[0m\u001b[1;33m]\u001b[0m\u001b[1;33m)\u001b[0m\u001b[1;33m\u001b[0m\u001b[0m\n",
      "\u001b[1;31mTypeError\u001b[0m: 'Index' object is not callable"
     ]
    }
   ],
   "source": [
    "\n",
    "# coding: utf-8\n",
    "\n",
    "# In[174]:\n",
    "\n",
    "\n",
    "import pandas as pd\n",
    "\n",
    "\n",
    "#oh = pd.read_csv('./Programmierung/Python/zz_boersendaten/Börsendaten/DAX30_TimeFrameMin_M1_CandleData_Raw.csv')\n",
    "#oh = pd.read_csv('Programmierung/python/zz_boersendaten/Boersendaten/DAX30_TimeFrameMin_M1_CandleData_Raw.csv',sep=';');\n",
    "#D:\\Profiles\\fuhlmann\\Programmierung\\Python\\zz_boersendaten\\Boersendaten\\DAX30_TimeFrameMin_M1_CandleData_Raw.csv\n",
    "\n",
    "oh = pd.read_csv('D:/Profiles/fuhlmann/Programmierung/Python/zz_boersendaten/Boersendaten/DAX30_TimeFrameMin_M1_CandleData_Raw.csv')  # doctest: +SKIP\n",
    "#print(oh.index);\n",
    "print(list(oh))\n",
    "\n",
    "oh.columns(['date', 'time', 'open', 'high', 'low', 'close', 'volume'])\n",
    "print(oh.head(2))\n",
    "print(oh.loc[0:2, ['date', 'time', 'close']])\n",
    "\n",
    "oh = oh[oh.time != '02:15']\n",
    "oh_timeCleaned = oh[oh.time != '02:16']\n",
    "\n",
    "print(oh_timeCleaned.loc[0:4, ['date', 'time', 'close']])\n",
    "\n",
    "for hh in range(0, 9):\n",
    "    for mm in range(0, 60):\n",
    "        mm_digits = len(str(mm))\n",
    "        if mm_digits < 2:\n",
    "            oh = oh[oh.time != \"0%d:0%d\" % (hh, mm)]\n",
    "        else:\n",
    "            oh = oh[oh.time != \"0%d:%d\" % (hh, mm)]\n",
    "\n",
    "for hh in range(23, 24):\n",
    "    for mm in range(0, 60):\n",
    "        mm_digits = len(str(mm))\n",
    "        if mm_digits < 2:\n",
    "            print(\"%d:0%d\" % (hh, mm))\n",
    "            oh = oh[oh.time != \"%d:0%d\" % (hh, mm)]\n",
    "        else:\n",
    "            print(\"%d:%d\" % (hh, mm))\n",
    "\n",
    "            oh = oh[oh.time != \"%d:%d\" % (hh, mm)]\n",
    "\n",
    "oh.head(1000)\n",
    "oh.to_csv(\n",
    "    'Programmierung/python/zz_boersendaten/Boersendaten/DAX30_TimeFrameMin_M1_CandleData_Cleaned_Just_Market_Time_NEWTEST.csv',\n",
    "    sep=';')\n",
    "\n"
   ]
  },
  {
   "cell_type": "code",
   "execution_count": null,
   "metadata": {},
   "outputs": [],
   "source": []
  }
 ],
 "metadata": {
  "kernelspec": {
   "display_name": "Python 3",
   "language": "python",
   "name": "python3"
  },
  "language_info": {
   "codemirror_mode": {
    "name": "ipython",
    "version": 3
   },
   "file_extension": ".py",
   "mimetype": "text/x-python",
   "name": "python",
   "nbconvert_exporter": "python",
   "pygments_lexer": "ipython3",
   "version": "3.6.5"
  }
 },
 "nbformat": 4,
 "nbformat_minor": 2
}
